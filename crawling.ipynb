{
 "cells": [
  {
   "cell_type": "code",
   "execution_count": 54,
   "metadata": {},
   "outputs": [],
   "source": [
    "import selenium\n",
    "from bs4 import BeautifulSoup\n",
    "import numpy as np\n",
    "import pandas as pd\n",
    "import time\n",
    "from selenium import webdriver #Selenium의 웹 드라이버를 사용하기 위한 모듈을 임포트\n",
    "from selenium.webdriver.common.by import By #Selenium에서 사용하는 By 클래스를 임포트합. 웹 요소를 검색하는데 사용.\n",
    "from selenium.webdriver.common.keys import Keys #키보드 입력 제어를 위해 Keys 클래스 임포트\n",
    "from selenium.webdriver.chrome.service import Service #Chrome 드라이버 서비스를 사용하기 위한 모듈 임포트\n",
    "from selenium.webdriver.chrome.options import Options #Chrome 드라이버 옵션을 설정하기 위한 클래스 임포트\n",
    "from webdriver_manager.chrome import ChromeDriverManager #Chrome 드라이버를 자동으로 설치 및 관리하는데 사용되는 드라이버 매니저 임포트\n",
    "import time"
   ]
  },
  {
   "cell_type": "code",
   "execution_count": 2,
   "metadata": {},
   "outputs": [],
   "source": [
    "#브라우저 꺼짐 방지\n",
    "chrome_options = Options()\n",
    "chrome_options.add_experimental_option('detach', True)\n",
    "#불필요한 에러 메서지 없애기\n",
    "chrome_options.add_experimental_option('excludeSwitches',['enable-logging'])"
   ]
  },
  {
   "cell_type": "code",
   "execution_count": 116,
   "metadata": {},
   "outputs": [],
   "source": [
    "url='https://fminside.net/players'\n",
    "driver = webdriver.Chrome(options=chrome_options)\n",
    "driver.get(url)\n",
    "driver.maximize_window()\n",
    "driver.implicitly_wait(10)\n",
    "FilterContainer=driver.find_elements(By.CSS_SELECTOR,'div.option.two_row')\n",
    "smartFilterContainer=FilterContainer[0]\n",
    "wonderkidFilter=smartFilterContainer.find_elements(By.CSS_SELECTOR,'ul>li>label')"
   ]
  },
  {
   "cell_type": "code",
   "execution_count": 118,
   "metadata": {},
   "outputs": [
    {
     "ename": "ElementClickInterceptedException",
     "evalue": "Message: element click intercepted: Element <label>...</label> is not clickable at point (422, 926). Other element would receive the click: <div id=\"google_ads_iframe_/154013155,22903265441/1024901/74084/publisher:1024901-website:74084-bottom_rail_0__container__\" style=\"border: 0pt none;\">...</div>\n  (Session info: chrome=123.0.6312.106)\nStacktrace:\n\tGetHandleVerifier [0x00007FF78BD77032+63090]\n\t(No symbol) [0x00007FF78BCE2C82]\n\t(No symbol) [0x00007FF78BB7EC65]\n\t(No symbol) [0x00007FF78BBCBB34]\n\t(No symbol) [0x00007FF78BBC9954]\n\t(No symbol) [0x00007FF78BBC7164]\n\t(No symbol) [0x00007FF78BBC5EF9]\n\t(No symbol) [0x00007FF78BBBA708]\n\t(No symbol) [0x00007FF78BBE6FDA]\n\t(No symbol) [0x00007FF78BBBA00A]\n\t(No symbol) [0x00007FF78BBE71F0]\n\t(No symbol) [0x00007FF78BC03412]\n\t(No symbol) [0x00007FF78BBE6D83]\n\t(No symbol) [0x00007FF78BBB83A8]\n\t(No symbol) [0x00007FF78BBB9441]\n\tGetHandleVerifier [0x00007FF78C1725AD+4238317]\n\tGetHandleVerifier [0x00007FF78C1AF70D+4488525]\n\tGetHandleVerifier [0x00007FF78C1A79EF+4456495]\n\tGetHandleVerifier [0x00007FF78BE50576+953270]\n\t(No symbol) [0x00007FF78BCEE54F]\n\t(No symbol) [0x00007FF78BCE9224]\n\t(No symbol) [0x00007FF78BCE935B]\n\t(No symbol) [0x00007FF78BCD9B94]\n\tBaseThreadInitThunk [0x00007FFD53E1257D+29]\n\tRtlUserThreadStart [0x00007FFD55A4AA48+40]\n",
     "output_type": "error",
     "traceback": [
      "\u001b[1;31m---------------------------------------------------------------------------\u001b[0m",
      "\u001b[1;31mElementClickInterceptedException\u001b[0m          Traceback (most recent call last)",
      "Cell \u001b[1;32mIn[118], line 1\u001b[0m\n\u001b[1;32m----> 1\u001b[0m wonderkidFilter[\u001b[38;5;241m0\u001b[39m]\u001b[38;5;241m.\u001b[39mclick()\n\u001b[0;32m      2\u001b[0m time\u001b[38;5;241m.\u001b[39msleep(\u001b[38;5;241m5\u001b[39m)\n\u001b[0;32m      3\u001b[0m playerInfoTable\u001b[38;5;241m=\u001b[39mdriver\u001b[38;5;241m.\u001b[39mfind_element(By\u001b[38;5;241m.\u001b[39mCSS_SELECTOR,\u001b[38;5;124m'\u001b[39m\u001b[38;5;124mdiv.table\u001b[39m\u001b[38;5;124m'\u001b[39m)\u001b[38;5;241m.\u001b[39mfind_elements(By\u001b[38;5;241m.\u001b[39mCSS_SELECTOR,\u001b[38;5;124m'\u001b[39m\u001b[38;5;124mdiv>ul>li>span>b>a\u001b[39m\u001b[38;5;124m'\u001b[39m)\n",
      "File \u001b[1;32mc:\\Users\\kamci\\anaconda3\\Lib\\site-packages\\selenium\\webdriver\\remote\\webelement.py:94\u001b[0m, in \u001b[0;36mWebElement.click\u001b[1;34m(self)\u001b[0m\n\u001b[0;32m     92\u001b[0m \u001b[38;5;28;01mdef\u001b[39;00m \u001b[38;5;21mclick\u001b[39m(\u001b[38;5;28mself\u001b[39m) \u001b[38;5;241m-\u001b[39m\u001b[38;5;241m>\u001b[39m \u001b[38;5;28;01mNone\u001b[39;00m:\n\u001b[0;32m     93\u001b[0m \u001b[38;5;250m    \u001b[39m\u001b[38;5;124;03m\"\"\"Clicks the element.\"\"\"\u001b[39;00m\n\u001b[1;32m---> 94\u001b[0m     \u001b[38;5;28mself\u001b[39m\u001b[38;5;241m.\u001b[39m_execute(Command\u001b[38;5;241m.\u001b[39mCLICK_ELEMENT)\n",
      "File \u001b[1;32mc:\\Users\\kamci\\anaconda3\\Lib\\site-packages\\selenium\\webdriver\\remote\\webelement.py:395\u001b[0m, in \u001b[0;36mWebElement._execute\u001b[1;34m(self, command, params)\u001b[0m\n\u001b[0;32m    393\u001b[0m     params \u001b[38;5;241m=\u001b[39m {}\n\u001b[0;32m    394\u001b[0m params[\u001b[38;5;124m\"\u001b[39m\u001b[38;5;124mid\u001b[39m\u001b[38;5;124m\"\u001b[39m] \u001b[38;5;241m=\u001b[39m \u001b[38;5;28mself\u001b[39m\u001b[38;5;241m.\u001b[39m_id\n\u001b[1;32m--> 395\u001b[0m \u001b[38;5;28;01mreturn\u001b[39;00m \u001b[38;5;28mself\u001b[39m\u001b[38;5;241m.\u001b[39m_parent\u001b[38;5;241m.\u001b[39mexecute(command, params)\n",
      "File \u001b[1;32mc:\\Users\\kamci\\anaconda3\\Lib\\site-packages\\selenium\\webdriver\\remote\\webdriver.py:347\u001b[0m, in \u001b[0;36mWebDriver.execute\u001b[1;34m(self, driver_command, params)\u001b[0m\n\u001b[0;32m    345\u001b[0m response \u001b[38;5;241m=\u001b[39m \u001b[38;5;28mself\u001b[39m\u001b[38;5;241m.\u001b[39mcommand_executor\u001b[38;5;241m.\u001b[39mexecute(driver_command, params)\n\u001b[0;32m    346\u001b[0m \u001b[38;5;28;01mif\u001b[39;00m response:\n\u001b[1;32m--> 347\u001b[0m     \u001b[38;5;28mself\u001b[39m\u001b[38;5;241m.\u001b[39merror_handler\u001b[38;5;241m.\u001b[39mcheck_response(response)\n\u001b[0;32m    348\u001b[0m     response[\u001b[38;5;124m\"\u001b[39m\u001b[38;5;124mvalue\u001b[39m\u001b[38;5;124m\"\u001b[39m] \u001b[38;5;241m=\u001b[39m \u001b[38;5;28mself\u001b[39m\u001b[38;5;241m.\u001b[39m_unwrap_value(response\u001b[38;5;241m.\u001b[39mget(\u001b[38;5;124m\"\u001b[39m\u001b[38;5;124mvalue\u001b[39m\u001b[38;5;124m\"\u001b[39m, \u001b[38;5;28;01mNone\u001b[39;00m))\n\u001b[0;32m    349\u001b[0m     \u001b[38;5;28;01mreturn\u001b[39;00m response\n",
      "File \u001b[1;32mc:\\Users\\kamci\\anaconda3\\Lib\\site-packages\\selenium\\webdriver\\remote\\errorhandler.py:229\u001b[0m, in \u001b[0;36mErrorHandler.check_response\u001b[1;34m(self, response)\u001b[0m\n\u001b[0;32m    227\u001b[0m         alert_text \u001b[38;5;241m=\u001b[39m value[\u001b[38;5;124m\"\u001b[39m\u001b[38;5;124malert\u001b[39m\u001b[38;5;124m\"\u001b[39m]\u001b[38;5;241m.\u001b[39mget(\u001b[38;5;124m\"\u001b[39m\u001b[38;5;124mtext\u001b[39m\u001b[38;5;124m\"\u001b[39m)\n\u001b[0;32m    228\u001b[0m     \u001b[38;5;28;01mraise\u001b[39;00m exception_class(message, screen, stacktrace, alert_text)  \u001b[38;5;66;03m# type: ignore[call-arg]  # mypy is not smart enough here\u001b[39;00m\n\u001b[1;32m--> 229\u001b[0m \u001b[38;5;28;01mraise\u001b[39;00m exception_class(message, screen, stacktrace)\n",
      "\u001b[1;31mElementClickInterceptedException\u001b[0m: Message: element click intercepted: Element <label>...</label> is not clickable at point (422, 926). Other element would receive the click: <div id=\"google_ads_iframe_/154013155,22903265441/1024901/74084/publisher:1024901-website:74084-bottom_rail_0__container__\" style=\"border: 0pt none;\">...</div>\n  (Session info: chrome=123.0.6312.106)\nStacktrace:\n\tGetHandleVerifier [0x00007FF78BD77032+63090]\n\t(No symbol) [0x00007FF78BCE2C82]\n\t(No symbol) [0x00007FF78BB7EC65]\n\t(No symbol) [0x00007FF78BBCBB34]\n\t(No symbol) [0x00007FF78BBC9954]\n\t(No symbol) [0x00007FF78BBC7164]\n\t(No symbol) [0x00007FF78BBC5EF9]\n\t(No symbol) [0x00007FF78BBBA708]\n\t(No symbol) [0x00007FF78BBE6FDA]\n\t(No symbol) [0x00007FF78BBBA00A]\n\t(No symbol) [0x00007FF78BBE71F0]\n\t(No symbol) [0x00007FF78BC03412]\n\t(No symbol) [0x00007FF78BBE6D83]\n\t(No symbol) [0x00007FF78BBB83A8]\n\t(No symbol) [0x00007FF78BBB9441]\n\tGetHandleVerifier [0x00007FF78C1725AD+4238317]\n\tGetHandleVerifier [0x00007FF78C1AF70D+4488525]\n\tGetHandleVerifier [0x00007FF78C1A79EF+4456495]\n\tGetHandleVerifier [0x00007FF78BE50576+953270]\n\t(No symbol) [0x00007FF78BCEE54F]\n\t(No symbol) [0x00007FF78BCE9224]\n\t(No symbol) [0x00007FF78BCE935B]\n\t(No symbol) [0x00007FF78BCD9B94]\n\tBaseThreadInitThunk [0x00007FFD53E1257D+29]\n\tRtlUserThreadStart [0x00007FFD55A4AA48+40]\n"
     ]
    }
   ],
   "source": [
    "wonderkidFilter[0].click()\n",
    "time.sleep(5)\n",
    "playerInfoTable=driver.find_element(By.CSS_SELECTOR,'div.table').find_elements(By.CSS_SELECTOR,'div>ul>li>span>b>a')"
   ]
  },
  {
   "cell_type": "code",
   "execution_count": 122,
   "metadata": {},
   "outputs": [
    {
     "data": {
      "text/plain": [
       "'Wonderkids'"
      ]
     },
     "execution_count": 122,
     "metadata": {},
     "output_type": "execute_result"
    }
   ],
   "source": [
    "wonderkidFilter[0].text"
   ]
  },
  {
   "cell_type": "code",
   "execution_count": 99,
   "metadata": {},
   "outputs": [
    {
     "data": {
      "text/plain": [
       "'Smart filters\\nWonderkids\\nContract expiring\\nFree transfers\\nBest Bargains\\nDynamic Potential\\nFast paced'"
      ]
     },
     "execution_count": 99,
     "metadata": {},
     "output_type": "execute_result"
    }
   ],
   "source": [
    "driver.find_elements(By.CSS_SELECTOR,)"
   ]
  },
  {
   "cell_type": "code",
   "execution_count": 88,
   "metadata": {},
   "outputs": [
    {
     "ename": "StaleElementReferenceException",
     "evalue": "Message: stale element reference: stale element not found\n  (Session info: chrome=123.0.6312.106); For documentation on this error, please visit: https://www.selenium.dev/documentation/webdriver/troubleshooting/errors#stale-element-reference-exception\nStacktrace:\n\tGetHandleVerifier [0x00007FF78BD77032+63090]\n\t(No symbol) [0x00007FF78BCE2C82]\n\t(No symbol) [0x00007FF78BB7EC65]\n\t(No symbol) [0x00007FF78BB8E78B]\n\t(No symbol) [0x00007FF78BB8EFEA]\n\t(No symbol) [0x00007FF78BB84B29]\n\t(No symbol) [0x00007FF78BB82D3A]\n\t(No symbol) [0x00007FF78BB86159]\n\t(No symbol) [0x00007FF78BB86200]\n\t(No symbol) [0x00007FF78BBC67B5]\n\t(No symbol) [0x00007FF78BBBA496]\n\t(No symbol) [0x00007FF78BBE6FDA]\n\t(No symbol) [0x00007FF78BBBA00A]\n\t(No symbol) [0x00007FF78BBE71F0]\n\t(No symbol) [0x00007FF78BC03412]\n\t(No symbol) [0x00007FF78BBE6D83]\n\t(No symbol) [0x00007FF78BBB83A8]\n\t(No symbol) [0x00007FF78BBB9441]\n\tGetHandleVerifier [0x00007FF78C1725AD+4238317]\n\tGetHandleVerifier [0x00007FF78C1AF70D+4488525]\n\tGetHandleVerifier [0x00007FF78C1A79EF+4456495]\n\tGetHandleVerifier [0x00007FF78BE50576+953270]\n\t(No symbol) [0x00007FF78BCEE54F]\n\t(No symbol) [0x00007FF78BCE9224]\n\t(No symbol) [0x00007FF78BCE935B]\n\t(No symbol) [0x00007FF78BCD9B94]\n\tBaseThreadInitThunk [0x00007FFD53E1257D+29]\n\tRtlUserThreadStart [0x00007FFD55A4AA48+40]\n",
     "output_type": "error",
     "traceback": [
      "\u001b[1;31m---------------------------------------------------------------------------\u001b[0m",
      "\u001b[1;31mStaleElementReferenceException\u001b[0m            Traceback (most recent call last)",
      "Cell \u001b[1;32mIn[88], line 2\u001b[0m\n\u001b[0;32m      1\u001b[0m \u001b[38;5;28;01mfor\u001b[39;00m i \u001b[38;5;129;01min\u001b[39;00m \u001b[38;5;28mrange\u001b[39m(\u001b[38;5;28mlen\u001b[39m(playerInfoTable)):\n\u001b[1;32m----> 2\u001b[0m     playerInfoTable[i]\u001b[38;5;241m.\u001b[39mclick()\n\u001b[0;32m      3\u001b[0m     time\u001b[38;5;241m.\u001b[39msleep(\u001b[38;5;241m3\u001b[39m)\n\u001b[0;32m      4\u001b[0m     driver\u001b[38;5;241m.\u001b[39mback()\n",
      "File \u001b[1;32mc:\\Users\\kamci\\anaconda3\\Lib\\site-packages\\selenium\\webdriver\\remote\\webelement.py:94\u001b[0m, in \u001b[0;36mWebElement.click\u001b[1;34m(self)\u001b[0m\n\u001b[0;32m     92\u001b[0m \u001b[38;5;28;01mdef\u001b[39;00m \u001b[38;5;21mclick\u001b[39m(\u001b[38;5;28mself\u001b[39m) \u001b[38;5;241m-\u001b[39m\u001b[38;5;241m>\u001b[39m \u001b[38;5;28;01mNone\u001b[39;00m:\n\u001b[0;32m     93\u001b[0m \u001b[38;5;250m    \u001b[39m\u001b[38;5;124;03m\"\"\"Clicks the element.\"\"\"\u001b[39;00m\n\u001b[1;32m---> 94\u001b[0m     \u001b[38;5;28mself\u001b[39m\u001b[38;5;241m.\u001b[39m_execute(Command\u001b[38;5;241m.\u001b[39mCLICK_ELEMENT)\n",
      "File \u001b[1;32mc:\\Users\\kamci\\anaconda3\\Lib\\site-packages\\selenium\\webdriver\\remote\\webelement.py:395\u001b[0m, in \u001b[0;36mWebElement._execute\u001b[1;34m(self, command, params)\u001b[0m\n\u001b[0;32m    393\u001b[0m     params \u001b[38;5;241m=\u001b[39m {}\n\u001b[0;32m    394\u001b[0m params[\u001b[38;5;124m\"\u001b[39m\u001b[38;5;124mid\u001b[39m\u001b[38;5;124m\"\u001b[39m] \u001b[38;5;241m=\u001b[39m \u001b[38;5;28mself\u001b[39m\u001b[38;5;241m.\u001b[39m_id\n\u001b[1;32m--> 395\u001b[0m \u001b[38;5;28;01mreturn\u001b[39;00m \u001b[38;5;28mself\u001b[39m\u001b[38;5;241m.\u001b[39m_parent\u001b[38;5;241m.\u001b[39mexecute(command, params)\n",
      "File \u001b[1;32mc:\\Users\\kamci\\anaconda3\\Lib\\site-packages\\selenium\\webdriver\\remote\\webdriver.py:347\u001b[0m, in \u001b[0;36mWebDriver.execute\u001b[1;34m(self, driver_command, params)\u001b[0m\n\u001b[0;32m    345\u001b[0m response \u001b[38;5;241m=\u001b[39m \u001b[38;5;28mself\u001b[39m\u001b[38;5;241m.\u001b[39mcommand_executor\u001b[38;5;241m.\u001b[39mexecute(driver_command, params)\n\u001b[0;32m    346\u001b[0m \u001b[38;5;28;01mif\u001b[39;00m response:\n\u001b[1;32m--> 347\u001b[0m     \u001b[38;5;28mself\u001b[39m\u001b[38;5;241m.\u001b[39merror_handler\u001b[38;5;241m.\u001b[39mcheck_response(response)\n\u001b[0;32m    348\u001b[0m     response[\u001b[38;5;124m\"\u001b[39m\u001b[38;5;124mvalue\u001b[39m\u001b[38;5;124m\"\u001b[39m] \u001b[38;5;241m=\u001b[39m \u001b[38;5;28mself\u001b[39m\u001b[38;5;241m.\u001b[39m_unwrap_value(response\u001b[38;5;241m.\u001b[39mget(\u001b[38;5;124m\"\u001b[39m\u001b[38;5;124mvalue\u001b[39m\u001b[38;5;124m\"\u001b[39m, \u001b[38;5;28;01mNone\u001b[39;00m))\n\u001b[0;32m    349\u001b[0m     \u001b[38;5;28;01mreturn\u001b[39;00m response\n",
      "File \u001b[1;32mc:\\Users\\kamci\\anaconda3\\Lib\\site-packages\\selenium\\webdriver\\remote\\errorhandler.py:229\u001b[0m, in \u001b[0;36mErrorHandler.check_response\u001b[1;34m(self, response)\u001b[0m\n\u001b[0;32m    227\u001b[0m         alert_text \u001b[38;5;241m=\u001b[39m value[\u001b[38;5;124m\"\u001b[39m\u001b[38;5;124malert\u001b[39m\u001b[38;5;124m\"\u001b[39m]\u001b[38;5;241m.\u001b[39mget(\u001b[38;5;124m\"\u001b[39m\u001b[38;5;124mtext\u001b[39m\u001b[38;5;124m\"\u001b[39m)\n\u001b[0;32m    228\u001b[0m     \u001b[38;5;28;01mraise\u001b[39;00m exception_class(message, screen, stacktrace, alert_text)  \u001b[38;5;66;03m# type: ignore[call-arg]  # mypy is not smart enough here\u001b[39;00m\n\u001b[1;32m--> 229\u001b[0m \u001b[38;5;28;01mraise\u001b[39;00m exception_class(message, screen, stacktrace)\n",
      "\u001b[1;31mStaleElementReferenceException\u001b[0m: Message: stale element reference: stale element not found\n  (Session info: chrome=123.0.6312.106); For documentation on this error, please visit: https://www.selenium.dev/documentation/webdriver/troubleshooting/errors#stale-element-reference-exception\nStacktrace:\n\tGetHandleVerifier [0x00007FF78BD77032+63090]\n\t(No symbol) [0x00007FF78BCE2C82]\n\t(No symbol) [0x00007FF78BB7EC65]\n\t(No symbol) [0x00007FF78BB8E78B]\n\t(No symbol) [0x00007FF78BB8EFEA]\n\t(No symbol) [0x00007FF78BB84B29]\n\t(No symbol) [0x00007FF78BB82D3A]\n\t(No symbol) [0x00007FF78BB86159]\n\t(No symbol) [0x00007FF78BB86200]\n\t(No symbol) [0x00007FF78BBC67B5]\n\t(No symbol) [0x00007FF78BBBA496]\n\t(No symbol) [0x00007FF78BBE6FDA]\n\t(No symbol) [0x00007FF78BBBA00A]\n\t(No symbol) [0x00007FF78BBE71F0]\n\t(No symbol) [0x00007FF78BC03412]\n\t(No symbol) [0x00007FF78BBE6D83]\n\t(No symbol) [0x00007FF78BBB83A8]\n\t(No symbol) [0x00007FF78BBB9441]\n\tGetHandleVerifier [0x00007FF78C1725AD+4238317]\n\tGetHandleVerifier [0x00007FF78C1AF70D+4488525]\n\tGetHandleVerifier [0x00007FF78C1A79EF+4456495]\n\tGetHandleVerifier [0x00007FF78BE50576+953270]\n\t(No symbol) [0x00007FF78BCEE54F]\n\t(No symbol) [0x00007FF78BCE9224]\n\t(No symbol) [0x00007FF78BCE935B]\n\t(No symbol) [0x00007FF78BCD9B94]\n\tBaseThreadInitThunk [0x00007FFD53E1257D+29]\n\tRtlUserThreadStart [0x00007FFD55A4AA48+40]\n"
     ]
    }
   ],
   "source": [
    "for i in range(len(playerInfoTable)):\n",
    "    playerInfoTable[i].click()\n",
    "    time.sleep(3)\n",
    "    driver.back()\n",
    "    time.sleep(3)\n",
    "    driver.find_element(By.CSS_SELECTOR,'div.table').find_elements(By.CSS_SELECTOR,'div>ul>li>span>b>a')[i].click()\n",
    "    time.sleep(3)"
   ]
  },
  {
   "cell_type": "code",
   "execution_count": 30,
   "metadata": {},
   "outputs": [],
   "source": [
    "header=playerInfoTable[0].text.split('\\n')"
   ]
  },
  {
   "cell_type": "code",
   "execution_count": 33,
   "metadata": {},
   "outputs": [
    {
     "data": {
      "text/plain": [
       "51"
      ]
     },
     "execution_count": 33,
     "metadata": {},
     "output_type": "execute_result"
    }
   ],
   "source": [
    "len(playerInfoTable)"
   ]
  },
  {
   "cell_type": "code",
   "execution_count": 34,
   "metadata": {},
   "outputs": [],
   "source": [
    "valueList=[]\n",
    "for i in range(1,len(playerInfoTable)):\n",
    "    valueList.append(playerInfoTable[i].text.split('\\n')[:-1])"
   ]
  },
  {
   "cell_type": "code",
   "execution_count": 41,
   "metadata": {},
   "outputs": [],
   "source": [
    "header.insert(3,'PosAndTeam')"
   ]
  },
  {
   "cell_type": "code",
   "execution_count": 42,
   "metadata": {},
   "outputs": [
    {
     "data": {
      "text/plain": [
       "['RAT', 'POT', 'NAME', 'PosAndTeam', 'AGE', 'CONTRACT', 'WAGE', 'SELL VALUE']"
      ]
     },
     "execution_count": 42,
     "metadata": {},
     "output_type": "execute_result"
    }
   ],
   "source": [
    "header"
   ]
  },
  {
   "cell_type": "code",
   "execution_count": 51,
   "metadata": {},
   "outputs": [
    {
     "name": "stdout",
     "output_type": "stream",
     "text": [
      "['89', '94', 'Jude Bellingham', 'DM, MC, AMCReal Madrid', '20', '06-2029', '€400K p/w', 'Not for sale', '€1000M'] 9\n",
      "['87', '93', 'Bukayo Saka', 'AMR, AMLArsenal', '21', '06-2027', '€229K p/w', 'Not for sale'] 8\n",
      "['85', '90', 'Eduardo Camavinga', 'DL, DM, MCReal Madrid', '20', '06-2027', '€241K p/w', 'Not for sale', '€1000M'] 9\n",
      "['81', '88', 'Pedri', 'MC, AMR, AML, AMCFC Barcelona', '20', '06-2026', '€183K p/w', '€92M', '€1000M'] 9\n",
      "['79', '93', 'Jamal Musiala', 'MC, AMR, AML, AMCFC Bayern', '20', '06-2026', '€96K p/w', '€125M'] 8\n",
      "['78', '93', 'Moisés Caicedo', 'DM, MCChelsea', '21', '06-2031', '€177K p/w', '€127M'] 8\n",
      "['77', 'Gavi', 'MC, AML, AMCFC Barcelona', '18', '06-2026', '€131K p/w', '€97M', '€1000M'] 8\n",
      "['77', '84', 'Jérémy Doku', 'AMR, AML, STManchester City', '21', '06-2028', '€58K p/w', '€115M'] 8\n",
      "['77', 'Ansu Fati', 'AMR, AML, AMC, STFC Barcelona', '20', '06-2027', '€232K p/w', '€63M', '€1000M'] 8\n",
      "['76', '91', 'Florian Wirtz', 'MC, AMR, AML, AMCBayer Leverkusen', '20', '06-2027', '€87K p/w', '€113M'] 8\n",
      "['76', '89', 'Nuno Mendes', 'DL, WBLPSG', '21', '06-2026', '€40K p/w', 'Not for sale'] 8\n",
      "['76', '82', 'Yan Couto', 'DR, WBR, MR, AMRManchester City', '21', '06-2025', '€6K p/w', '€78M'] 8\n",
      "['76', 'Alejandro Balde', 'DL, WBL, ML, AMLFC Barcelona', '19', '06-2028', '€39K p/w', '€61M', '€1000M'] 8\n",
      "['75', '83', 'Michael Olise', 'AMR, AMCCrystal Palace', '21', '06-2027', '€94K p/w', '€64M'] 8\n",
      "['75', '89', 'Joško Gvardiol', 'DL, DC, WBLManchester City', '21', '06-2028', '€234K p/w', '€115M'] 8\n",
      "['75', '80', 'Miguel Gutiérrez', 'DL, WBLGirona', '21', '06-2027', '€33K p/w', '€35M', '€35M'] 9\n",
      "['75', '86', 'Nico Williams', 'MR, ML, AMR, AMLAthletic Bilbao', '20', '06-2027', '€40K p/w', '€50M', '€50M'] 9\n",
      "['74', '89', 'Pape Matar Sarr', 'DM, MCTottenham Hotspur', '20', '06-2030', '€94K p/w', '€104M'] 8\n",
      "['74', 'Warren Zaïre-Emery', 'DM, MCPSG', '17', '06-2025', '€120K p/w', '€113M'] 7\n",
      "['74', 'Xavi Simons', 'MC, AMCPSG', '20', '06-2027', '€115K p/w', '€45M'] 7\n",
      "['74', '82', 'Harvey Elliott', 'MC, AMRLiverpool', '20', '06-2027', '€46K p/w', '€114M'] 8\n",
      "['73', '87', 'Destiny Udogie', 'DL, WBLTottenham Hotspur', '20', '06-2030', '€65K p/w', '€100M'] 8\n",
      "['73', '85', 'Giorgio Scalvini', 'DCAtalanta', '19', '06-2028', '€29K p/w', '€87M'] 8\n",
      "['73', '84', 'Anatolii Trubin', 'GKBenfica', '21', '06-2028', '€30K p/w', '€52M', '€100M'] 9\n",
      "['72', '80', 'João Pedro', 'AMR, AML, AMC, STBrighton & Hove Albion', '21', '06-2028', '€53K p/w', '€98M'] 8\n",
      "['72', '81', 'Malick Thiaw', 'DCAC Milan', '21', '06-2027', '€20K p/w', '€74M'] 8\n",
      "['72', '84', 'Rico Lewis', 'DR, DM, WBR, MCManchester City', '18', '06-2028', '€29K p/w', '€133M'] 8\n",
      "['72', '81', 'Lazar Samardžić', 'MC, AMCUdinese', '21', '06-2026', '€10K p/w', '€47M'] 8\n",
      "['72', 'Alejandro Garnacho', 'AMR, AMLManchester United', '19', '06-2028', '€59K p/w', '€89M'] 7\n",
      "['72', '81', 'Gonçalo Inácio', 'DCSporting CP', '21', '06-2027', '€27K p/w', '€47M', '€60M'] 9\n",
      "['72', '83', 'Mason Greenwood', 'AMR, STManchester United', '21', '06-2025', '€94K p/w', '€78M'] 8\n",
      "['72', 'António Silva', 'DCBenfica', '19', '06-2027', '€13K p/w', '€59M', '€100M'] 8\n",
      "['72', '83', 'Bradley Barcola', 'AMR, AML, STPSG', '20', '06-2028', '€115K p/w', '€75M'] 8\n",
      "['72', '82', 'Álex Baena', 'MC, AMR, AML, AMCVillarreal', '21', '06-2028', '€30K p/w', '€60M', '€60M'] 9\n",
      "['71', 'Ousmane Diomande', 'DCSporting CP', '19', '06-2027', '€27K p/w', '€47M', '€80M'] 8\n",
      "['71', '88', 'Yeremy Pino', 'AMR, AML, AMC, STVillarreal', '20', '06-2027', '€28K p/w', '€80M', '€80M'] 9\n",
      "['71', '83', 'Karim Adeyemi', 'AMR, AML, STBorussia Dortmund', '21', '06-2027', '€106K p/w', '€85M'] 8\n",
      "['71', '85', 'Levi Colwill', 'DL, DCChelsea', '20', '06-2029', '€118K p/w', '€131M'] 8\n",
      "['71', '85', 'Ryan Gravenberch', 'DM, MC, AMCLiverpool', '21', '06-2028', '€176K p/w', '€80M'] 8\n",
      "['71', '80', 'Nicolò Rovella', 'DM, MCJuventus', '21', '06-2026', '€71K p/w', '€17M'] 8\n",
      "['71', 'Sávio', 'AMR, AMLTroyes', '19', '06-2027', '€34K p/w', '€13M'] 7\n",
      "['70', '83', 'Aaron Hickey', 'DR, DL, WBR, WBLBrentford', '21', '06-2026', '€37K p/w', '€85M'] 8\n",
      "['70', 'Tino Livramento', 'DR, DL, WBRNewcastle United', '20', '06-2028', '€76K p/w', '€37M'] 7\n",
      "['70', '83', 'Javi Guerra', 'DM, MC, MR, AMCValencia', '20', '06-2027', '€23K p/w', '€68M', '€100M'] 9\n",
      "['70', '85', 'Rasmus Højlund', 'STManchester United', '20', '06-2028', '€98K p/w', '€111M'] 8\n",
      "['70', '82', 'André', 'DM, MCFluminense', '21', '12-2026', '€27K p/w', '€25M'] 8\n",
      "['70', '80', 'Cole Palmer', 'MC, AMR, AML, AMCChelsea', '21', '06-2030', '€89K p/w', '€148M'] 8\n",
      "['70', '82', 'Radu Drăguşin', 'DR, DCTottenham Hotspur', '21', '06-2030', '€45K p/w', '€92M'] 8\n",
      "['70', '80', 'Filip Jörgensen', 'GKVillarreal', '21', '06-2025', '€22K p/w', '€75M', '€81M'] 9\n",
      "['70', '80', 'Nico González', 'DM, MCFC Porto', '21', '06-2028', '€34K p/w', '€35M', '€60M'] 9\n"
     ]
    }
   ],
   "source": [
    "for i in valueList:\n",
    "    print(i,len(i))"
   ]
  },
  {
   "cell_type": "code",
   "execution_count": 37,
   "metadata": {},
   "outputs": [
    {
     "ename": "ValueError",
     "evalue": "7 columns passed, passed data had 9 columns",
     "output_type": "error",
     "traceback": [
      "\u001b[1;31m---------------------------------------------------------------------------\u001b[0m",
      "\u001b[1;31mAssertionError\u001b[0m                            Traceback (most recent call last)",
      "File \u001b[1;32mc:\\Users\\kamci\\anaconda3\\Lib\\site-packages\\pandas\\core\\internals\\construction.py:939\u001b[0m, in \u001b[0;36m_finalize_columns_and_data\u001b[1;34m(content, columns, dtype)\u001b[0m\n\u001b[0;32m    938\u001b[0m \u001b[38;5;28;01mtry\u001b[39;00m:\n\u001b[1;32m--> 939\u001b[0m     columns \u001b[38;5;241m=\u001b[39m _validate_or_indexify_columns(contents, columns)\n\u001b[0;32m    940\u001b[0m \u001b[38;5;28;01mexcept\u001b[39;00m \u001b[38;5;167;01mAssertionError\u001b[39;00m \u001b[38;5;28;01mas\u001b[39;00m err:\n\u001b[0;32m    941\u001b[0m     \u001b[38;5;66;03m# GH#26429 do not raise user-facing AssertionError\u001b[39;00m\n",
      "File \u001b[1;32mc:\\Users\\kamci\\anaconda3\\Lib\\site-packages\\pandas\\core\\internals\\construction.py:986\u001b[0m, in \u001b[0;36m_validate_or_indexify_columns\u001b[1;34m(content, columns)\u001b[0m\n\u001b[0;32m    984\u001b[0m \u001b[38;5;28;01mif\u001b[39;00m \u001b[38;5;129;01mnot\u001b[39;00m is_mi_list \u001b[38;5;129;01mand\u001b[39;00m \u001b[38;5;28mlen\u001b[39m(columns) \u001b[38;5;241m!=\u001b[39m \u001b[38;5;28mlen\u001b[39m(content):  \u001b[38;5;66;03m# pragma: no cover\u001b[39;00m\n\u001b[0;32m    985\u001b[0m     \u001b[38;5;66;03m# caller's responsibility to check for this...\u001b[39;00m\n\u001b[1;32m--> 986\u001b[0m     \u001b[38;5;28;01mraise\u001b[39;00m \u001b[38;5;167;01mAssertionError\u001b[39;00m(\n\u001b[0;32m    987\u001b[0m         \u001b[38;5;124mf\u001b[39m\u001b[38;5;124m\"\u001b[39m\u001b[38;5;132;01m{\u001b[39;00m\u001b[38;5;28mlen\u001b[39m(columns)\u001b[38;5;132;01m}\u001b[39;00m\u001b[38;5;124m columns passed, passed data had \u001b[39m\u001b[38;5;124m\"\u001b[39m\n\u001b[0;32m    988\u001b[0m         \u001b[38;5;124mf\u001b[39m\u001b[38;5;124m\"\u001b[39m\u001b[38;5;132;01m{\u001b[39;00m\u001b[38;5;28mlen\u001b[39m(content)\u001b[38;5;132;01m}\u001b[39;00m\u001b[38;5;124m columns\u001b[39m\u001b[38;5;124m\"\u001b[39m\n\u001b[0;32m    989\u001b[0m     )\n\u001b[0;32m    990\u001b[0m \u001b[38;5;28;01mif\u001b[39;00m is_mi_list:\n\u001b[0;32m    991\u001b[0m     \u001b[38;5;66;03m# check if nested list column, length of each sub-list should be equal\u001b[39;00m\n",
      "\u001b[1;31mAssertionError\u001b[0m: 7 columns passed, passed data had 9 columns",
      "\nThe above exception was the direct cause of the following exception:\n",
      "\u001b[1;31mValueError\u001b[0m                                Traceback (most recent call last)",
      "Cell \u001b[1;32mIn[37], line 1\u001b[0m\n\u001b[1;32m----> 1\u001b[0m pd\u001b[38;5;241m.\u001b[39mDataFrame(data\u001b[38;5;241m=\u001b[39mvalueList,columns\u001b[38;5;241m=\u001b[39mheader)\n",
      "File \u001b[1;32mc:\\Users\\kamci\\anaconda3\\Lib\\site-packages\\pandas\\core\\frame.py:806\u001b[0m, in \u001b[0;36mDataFrame.__init__\u001b[1;34m(self, data, index, columns, dtype, copy)\u001b[0m\n\u001b[0;32m    804\u001b[0m     \u001b[38;5;28;01mif\u001b[39;00m columns \u001b[38;5;129;01mis\u001b[39;00m \u001b[38;5;129;01mnot\u001b[39;00m \u001b[38;5;28;01mNone\u001b[39;00m:\n\u001b[0;32m    805\u001b[0m         columns \u001b[38;5;241m=\u001b[39m ensure_index(columns)\n\u001b[1;32m--> 806\u001b[0m     arrays, columns, index \u001b[38;5;241m=\u001b[39m nested_data_to_arrays(\n\u001b[0;32m    807\u001b[0m         \u001b[38;5;66;03m# error: Argument 3 to \"nested_data_to_arrays\" has incompatible\u001b[39;00m\n\u001b[0;32m    808\u001b[0m         \u001b[38;5;66;03m# type \"Optional[Collection[Any]]\"; expected \"Optional[Index]\"\u001b[39;00m\n\u001b[0;32m    809\u001b[0m         data,\n\u001b[0;32m    810\u001b[0m         columns,\n\u001b[0;32m    811\u001b[0m         index,  \u001b[38;5;66;03m# type: ignore[arg-type]\u001b[39;00m\n\u001b[0;32m    812\u001b[0m         dtype,\n\u001b[0;32m    813\u001b[0m     )\n\u001b[0;32m    814\u001b[0m     mgr \u001b[38;5;241m=\u001b[39m arrays_to_mgr(\n\u001b[0;32m    815\u001b[0m         arrays,\n\u001b[0;32m    816\u001b[0m         columns,\n\u001b[1;32m   (...)\u001b[0m\n\u001b[0;32m    819\u001b[0m         typ\u001b[38;5;241m=\u001b[39mmanager,\n\u001b[0;32m    820\u001b[0m     )\n\u001b[0;32m    821\u001b[0m \u001b[38;5;28;01melse\u001b[39;00m:\n",
      "File \u001b[1;32mc:\\Users\\kamci\\anaconda3\\Lib\\site-packages\\pandas\\core\\internals\\construction.py:520\u001b[0m, in \u001b[0;36mnested_data_to_arrays\u001b[1;34m(data, columns, index, dtype)\u001b[0m\n\u001b[0;32m    517\u001b[0m \u001b[38;5;28;01mif\u001b[39;00m is_named_tuple(data[\u001b[38;5;241m0\u001b[39m]) \u001b[38;5;129;01mand\u001b[39;00m columns \u001b[38;5;129;01mis\u001b[39;00m \u001b[38;5;28;01mNone\u001b[39;00m:\n\u001b[0;32m    518\u001b[0m     columns \u001b[38;5;241m=\u001b[39m ensure_index(data[\u001b[38;5;241m0\u001b[39m]\u001b[38;5;241m.\u001b[39m_fields)\n\u001b[1;32m--> 520\u001b[0m arrays, columns \u001b[38;5;241m=\u001b[39m to_arrays(data, columns, dtype\u001b[38;5;241m=\u001b[39mdtype)\n\u001b[0;32m    521\u001b[0m columns \u001b[38;5;241m=\u001b[39m ensure_index(columns)\n\u001b[0;32m    523\u001b[0m \u001b[38;5;28;01mif\u001b[39;00m index \u001b[38;5;129;01mis\u001b[39;00m \u001b[38;5;28;01mNone\u001b[39;00m:\n",
      "File \u001b[1;32mc:\\Users\\kamci\\anaconda3\\Lib\\site-packages\\pandas\\core\\internals\\construction.py:845\u001b[0m, in \u001b[0;36mto_arrays\u001b[1;34m(data, columns, dtype)\u001b[0m\n\u001b[0;32m    842\u001b[0m     data \u001b[38;5;241m=\u001b[39m [\u001b[38;5;28mtuple\u001b[39m(x) \u001b[38;5;28;01mfor\u001b[39;00m x \u001b[38;5;129;01min\u001b[39;00m data]\n\u001b[0;32m    843\u001b[0m     arr \u001b[38;5;241m=\u001b[39m _list_to_arrays(data)\n\u001b[1;32m--> 845\u001b[0m content, columns \u001b[38;5;241m=\u001b[39m _finalize_columns_and_data(arr, columns, dtype)\n\u001b[0;32m    846\u001b[0m \u001b[38;5;28;01mreturn\u001b[39;00m content, columns\n",
      "File \u001b[1;32mc:\\Users\\kamci\\anaconda3\\Lib\\site-packages\\pandas\\core\\internals\\construction.py:942\u001b[0m, in \u001b[0;36m_finalize_columns_and_data\u001b[1;34m(content, columns, dtype)\u001b[0m\n\u001b[0;32m    939\u001b[0m     columns \u001b[38;5;241m=\u001b[39m _validate_or_indexify_columns(contents, columns)\n\u001b[0;32m    940\u001b[0m \u001b[38;5;28;01mexcept\u001b[39;00m \u001b[38;5;167;01mAssertionError\u001b[39;00m \u001b[38;5;28;01mas\u001b[39;00m err:\n\u001b[0;32m    941\u001b[0m     \u001b[38;5;66;03m# GH#26429 do not raise user-facing AssertionError\u001b[39;00m\n\u001b[1;32m--> 942\u001b[0m     \u001b[38;5;28;01mraise\u001b[39;00m \u001b[38;5;167;01mValueError\u001b[39;00m(err) \u001b[38;5;28;01mfrom\u001b[39;00m \u001b[38;5;21;01merr\u001b[39;00m\n\u001b[0;32m    944\u001b[0m \u001b[38;5;28;01mif\u001b[39;00m \u001b[38;5;28mlen\u001b[39m(contents) \u001b[38;5;129;01mand\u001b[39;00m contents[\u001b[38;5;241m0\u001b[39m]\u001b[38;5;241m.\u001b[39mdtype \u001b[38;5;241m==\u001b[39m np\u001b[38;5;241m.\u001b[39mobject_:\n\u001b[0;32m    945\u001b[0m     contents \u001b[38;5;241m=\u001b[39m convert_object_array(contents, dtype\u001b[38;5;241m=\u001b[39mdtype)\n",
      "\u001b[1;31mValueError\u001b[0m: 7 columns passed, passed data had 9 columns"
     ]
    }
   ],
   "source": [
    "for i in valueList:\n",
    "    playerInfo=[j for j in i[:]]"
   ]
  }
 ],
 "metadata": {
  "kernelspec": {
   "display_name": "base",
   "language": "python",
   "name": "python3"
  },
  "language_info": {
   "codemirror_mode": {
    "name": "ipython",
    "version": 3
   },
   "file_extension": ".py",
   "mimetype": "text/x-python",
   "name": "python",
   "nbconvert_exporter": "python",
   "pygments_lexer": "ipython3",
   "version": "3.11.8"
  }
 },
 "nbformat": 4,
 "nbformat_minor": 2
}
