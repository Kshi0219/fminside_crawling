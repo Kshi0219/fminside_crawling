{
 "cells": [
  {
   "cell_type": "code",
   "execution_count": 1,
   "metadata": {},
   "outputs": [],
   "source": [
    "import selenium\n",
    "from bs4 import BeautifulSoup\n",
    "import numpy as np\n",
    "import pandas as pd\n",
    "import time\n",
    "from selenium import webdriver #Selenium의 웹 드라이버를 사용하기 위한 모듈을 임포트\n",
    "from selenium.webdriver.common.by import By #Selenium에서 사용하는 By 클래스를 임포트합. 웹 요소를 검색하는데 사용.\n",
    "from selenium.webdriver.common.keys import Keys #키보드 입력 제어를 위해 Keys 클래스 임포트\n",
    "from selenium.webdriver.chrome.service import Service #Chrome 드라이버 서비스를 사용하기 위한 모듈 임포트\n",
    "from selenium.webdriver.chrome.options import Options #Chrome 드라이버 옵션을 설정하기 위한 클래스 임포트\n",
    "from webdriver_manager.chrome import ChromeDriverManager #Chrome 드라이버를 자동으로 설치 및 관리하는데 사용되는 드라이버 매니저 임포트\n",
    "import time"
   ]
  },
  {
   "cell_type": "code",
   "execution_count": 13,
   "metadata": {},
   "outputs": [],
   "source": [
    "#브라우저 꺼짐 방지\n",
    "chrome_options = Options()\n",
    "chrome_options.add_experimental_option('detach', True)\n",
    "#불필요한 에러 메서지 없애기\n",
    "chrome_options.add_experimental_option('excludeSwitches',['enable-logging'])\n",
    "url='https://www.kicker.de/bundesliga/startseite'\n",
    "driver = webdriver.Chrome(options=chrome_options)\n",
    "driver.get(url)\n",
    "driver.maximize_window()\n",
    "driver.find_element(By.CSS_SELECTOR,'#kick__pur > div:nth-child(3) > div:nth-child(1) > div > a').click()"
   ]
  },
  {
   "cell_type": "markdown",
   "metadata": {},
   "source": [
    "### selenium + BeautifulSoup"
   ]
  },
  {
   "cell_type": "markdown",
   "metadata": {},
   "source": [
    "**헤드라인 제목, 링크**"
   ]
  },
  {
   "cell_type": "code",
   "execution_count": 44,
   "metadata": {},
   "outputs": [
    {
     "name": "stdout",
     "output_type": "stream",
     "text": [
      "Fünftes Champions-League-Ticket fast sicher: Was die Bundesliga noch braucht\n",
      "/fuenftes-champions-league-ticket-fast-sicher-was-die-bundesliga-noch-braucht-1017004/artikel\n"
     ]
    }
   ],
   "source": [
    "soup=BeautifulSoup(driver.page_source,'html.parser')\n",
    "print(soup.select_one('.kick__modul__container').select_one('.kick__modul__item.kick__modul__item--topnews').select_one('div>h2>a').text)\n",
    "print(soup.select_one('.kick__modul__container').select_one('.kick__modul__item.kick__modul__item--topnews').select_one('div>h2>a').get('href'))"
   ]
  },
  {
   "cell_type": "markdown",
   "metadata": {},
   "source": [
    "**일반 기사 제목들**"
   ]
  },
  {
   "cell_type": "code",
   "execution_count": 86,
   "metadata": {},
   "outputs": [
    {
     "name": "stdout",
     "output_type": "stream",
     "text": [
      "Xabi Alonso strebt nach Bestmarke für die Ewigkeit: \"Können noch Historischeres erreichen\"\n",
      "Rose zur seiner Sperre: \"Gute Frage, die ich auch gerne beantwortet bekommen hätte\"\n",
      "Sané bleibt in München - \"außer es passiert ein medizinisches Wunder\"\n",
      "Duell mit Ex-Klub Bremen: Undav bisher verhaltensunauffällig\n",
      "Der SC Freiburg in Europa? Warum die Aussichten bestens sind\n"
     ]
    }
   ],
   "source": [
    "subArticleSoup=soup.select_one('.kick__modul__container').select('ul>li')\n",
    "for i in subArticleSoup:\n",
    "    print(i.select_one('a>h3').text)"
   ]
  },
  {
   "cell_type": "markdown",
   "metadata": {},
   "source": [
    "**일반 기사 링크들**"
   ]
  },
  {
   "cell_type": "code",
   "execution_count": 51,
   "metadata": {},
   "outputs": [
    {
     "name": "stdout",
     "output_type": "stream",
     "text": [
      "/xabi-alonso-strebt-nach-bestmarke-fuer-die-ewigkeit-koennen-noch-historischeres-erreichen-1017091/artikel\n",
      "/rose-zur-seiner-sperre-gute-frage-die-ich-auch-gerne-beantwortet-bekommen-haette-1017088/artikel\n",
      "/sane-bleibt-in-muenchen-ausser-es-passiert-ein-medizinisches-wunder-1017086/artikel\n",
      "/duell-mit-ex-klub-bremen-undav-bisher-verhaltensunauffaellig-1016858/artikel\n",
      "/der-sc-freiburg-in-europa-warum-die-aussichten-bestens-sind-1016748/artikel\n"
     ]
    }
   ],
   "source": [
    "subArticleSoup=soup.select_one('.kick__modul__container').select('ul>li')\n",
    "for i in subArticleSoup:\n",
    "    if subArticleSoup.index(i)<4:\n",
    "        print(i.select('a')[1].get('href'))\n",
    "    else:\n",
    "        print(i.select_one('a').get('href'))"
   ]
  },
  {
   "cell_type": "markdown",
   "metadata": {},
   "source": [
    "### Only selenium"
   ]
  },
  {
   "cell_type": "markdown",
   "metadata": {},
   "source": [
    "**헤드라인 제목, 링크**"
   ]
  },
  {
   "cell_type": "code",
   "execution_count": 43,
   "metadata": {},
   "outputs": [
    {
     "name": "stdout",
     "output_type": "stream",
     "text": [
      "Fünftes Champions-League-Ticket fast sicher: Was die Bundesliga noch braucht : https://www.kicker.de/fuenftes-champions-league-ticket-fast-sicher-was-die-bundesliga-noch-braucht-1017004/artikel\n"
     ]
    }
   ],
   "source": [
    "newsContainer=driver.find_element(By.CSS_SELECTOR,'.kick__modul__container')\n",
    "headLineContainer=newsContainer.find_element(By.CSS_SELECTOR,'.kick__modul__item.kick__modul__item--topnews')\n",
    "headLineLink=headLineContainer.find_element(By.CSS_SELECTOR,'div>h2>a').get_attribute('href')\n",
    "headLineTitle=headLineContainer.find_element(By.CSS_SELECTOR,'div>h2>a').text\n",
    "print(f'{headLineTitle} : {headLineLink}')"
   ]
  },
  {
   "cell_type": "markdown",
   "metadata": {},
   "source": [
    "**일반 기사 제목들**"
   ]
  },
  {
   "cell_type": "code",
   "execution_count": 83,
   "metadata": {},
   "outputs": [
    {
     "name": "stdout",
     "output_type": "stream",
     "text": [
      "Xabi Alonso strebt nach Bestmarke für die Ewigkeit: \"Können noch Historischeres erreichen\"\n",
      "Rose zur seiner Sperre: \"Gute Frage, die ich auch gerne beantwortet bekommen hätte\"\n",
      "Sané bleibt in München - \"außer es passiert ein medizinisches Wunder\"\n",
      "Duell mit Ex-Klub Bremen: Undav bisher verhaltensunauffällig\n",
      "Der SC Freiburg in Europa? Warum die Aussichten bestens sind\n"
     ]
    }
   ],
   "source": [
    "subArticleElement=newsContainer.find_elements(By.CSS_SELECTOR,'ul>li')\n",
    "for i in subArticleElement:\n",
    "    print(i.find_element(By.CSS_SELECTOR,'a>h3').text)"
   ]
  },
  {
   "cell_type": "markdown",
   "metadata": {},
   "source": [
    "**일반 기사 링크들**"
   ]
  },
  {
   "cell_type": "code",
   "execution_count": 87,
   "metadata": {},
   "outputs": [
    {
     "name": "stdout",
     "output_type": "stream",
     "text": [
      "https://www.kicker.de/xabi-alonso-strebt-nach-bestmarke-fuer-die-ewigkeit-koennen-noch-historischeres-erreichen-1017091/artikel\n",
      "https://www.kicker.de/rose-zur-seiner-sperre-gute-frage-die-ich-auch-gerne-beantwortet-bekommen-haette-1017088/artikel\n",
      "https://www.kicker.de/sane-bleibt-in-muenchen-ausser-es-passiert-ein-medizinisches-wunder-1017086/artikel\n",
      "https://www.kicker.de/duell-mit-ex-klub-bremen-undav-bisher-verhaltensunauffaellig-1016858/artikel\n",
      "https://www.kicker.de/der-sc-freiburg-in-europa-warum-die-aussichten-bestens-sind-1016748/artikel\n"
     ]
    }
   ],
   "source": [
    "for i in subArticleElement:\n",
    "    if subArticleElement.index(i)<4:\n",
    "        print(i.find_elements(By.CSS_SELECTOR,'a')[1].get_attribute('href'))\n",
    "    else:\n",
    "        print(i.find_element(By.CSS_SELECTOR,'a').get_attribute('href'))"
   ]
  }
 ],
 "metadata": {
  "kernelspec": {
   "display_name": "base",
   "language": "python",
   "name": "python3"
  },
  "language_info": {
   "codemirror_mode": {
    "name": "ipython",
    "version": 3
   },
   "file_extension": ".py",
   "mimetype": "text/x-python",
   "name": "python",
   "nbconvert_exporter": "python",
   "pygments_lexer": "ipython3",
   "version": "3.11.7"
  }
 },
 "nbformat": 4,
 "nbformat_minor": 2
}
