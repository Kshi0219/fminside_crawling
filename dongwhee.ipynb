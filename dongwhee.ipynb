{
 "cells": [
  {
   "cell_type": "code",
   "execution_count": 15,
   "metadata": {},
   "outputs": [],
   "source": [
    "import pandas as pd\n",
    "import requests\n",
    "from bs4 import BeautifulSoup\n",
    "\n",
    "# 선수별 링크 리스트\n",
    "web_list = [\"https://fminside.net/players/5-fm-243/18004457-kevin-de-bruyne\", \"https://fminside.net/players/5-fm-243/29179241-erling-haaland\"]\n",
    "\n",
    "# 세부속성 : 데이터 값을 저장할 빈 리스트 세팅\n",
    "field_nm = ['Corners', 'Crossing','Dribbling','Finishing','First','Free','Heading','Long',\n",
    "            'Long','Marking','Passing','Penalty','Tackling','Technique','Aggression','Anticipation',\n",
    "            'Bravery','Composure','Concentration','Decisions','Determination','Flair','Leadership',\n",
    "            'Off the Ball','Positioning', 'Teamwork','Vision','Work','Acceleration','Agility','Balance',\n",
    "            'Jumping','Natural','Pace','Stamina','Strength']\n",
    "\n",
    "# 뷰티풀숲을 통한 크롤링\n",
    "feature_value_list = []  # 데이터 값을 저장할 빈 리스트 초기화\n",
    "for v in range(len(web_list)):\n",
    "    get_info = requests.get(web_list[v])\n",
    "    all_data = get_info.text\n",
    "    myparser = BeautifulSoup(all_data, 'html.parser')  # 해당 링크 html 파싱\n",
    "\n",
    "    # 우측 프로필\n",
    "    stat_columns = myparser.select('div.block.stats > div.column > table')  # Technical, Menta, Physical 컬럼\n",
    "    for v in stat_columns:\n",
    "        value_1 = v.text.strip().replace(\"\\n\",\" \").split(\"  \")       \n",
    "        for vv in value_1:\n",
    "            value_2 = vv[-2:]\n",
    "            feature_value_list.append(value_2)\n",
    "# 데이터프레임으로 변환\n",
    "final_info_df_2 = pd.DataFrame({field_nm[i]: [feature_value_list[i]] for i in range(len(field_nm))})\n",
    "\n",
    "final_info_df_2"
   ]
  },
  {
   "cell_type": "code",
   "execution_count": 20,
   "metadata": {},
   "outputs": [
    {
     "data": {
      "text/plain": [
       "36"
      ]
     },
     "execution_count": 20,
     "metadata": {},
     "output_type": "execute_result"
    }
   ],
   "source": [
    "len(field_nm)"
   ]
  },
  {
   "cell_type": "code",
   "execution_count": 21,
   "metadata": {},
   "outputs": [
    {
     "data": {
      "text/plain": [
       "72"
      ]
     },
     "execution_count": 21,
     "metadata": {},
     "output_type": "execute_result"
    }
   ],
   "source": [
    "len(feature_value_list)"
   ]
  },
  {
   "cell_type": "code",
   "execution_count": 40,
   "metadata": {},
   "outputs": [],
   "source": [
    "stat_df=pd.DataFrame()\n",
    "for i in range(2):\n",
    "    temp_df=pd.DataFrame(data=feature_value_list[36*i:36*(i+1)],index=field_nm).transpose()\n",
    "    stat_df=pd.concat([stat_df,temp_df])"
   ]
  },
  {
   "cell_type": "code",
   "execution_count": 41,
   "metadata": {},
   "outputs": [
    {
     "data": {
      "text/html": [
       "<div>\n",
       "<style scoped>\n",
       "    .dataframe tbody tr th:only-of-type {\n",
       "        vertical-align: middle;\n",
       "    }\n",
       "\n",
       "    .dataframe tbody tr th {\n",
       "        vertical-align: top;\n",
       "    }\n",
       "\n",
       "    .dataframe thead th {\n",
       "        text-align: right;\n",
       "    }\n",
       "</style>\n",
       "<table border=\"1\" class=\"dataframe\">\n",
       "  <thead>\n",
       "    <tr style=\"text-align: right;\">\n",
       "      <th></th>\n",
       "      <th>Corners</th>\n",
       "      <th>Crossing</th>\n",
       "      <th>Dribbling</th>\n",
       "      <th>Finishing</th>\n",
       "      <th>First</th>\n",
       "      <th>Free</th>\n",
       "      <th>Heading</th>\n",
       "      <th>Long</th>\n",
       "      <th>Long</th>\n",
       "      <th>Marking</th>\n",
       "      <th>...</th>\n",
       "      <th>Vision</th>\n",
       "      <th>Work</th>\n",
       "      <th>Acceleration</th>\n",
       "      <th>Agility</th>\n",
       "      <th>Balance</th>\n",
       "      <th>Jumping</th>\n",
       "      <th>Natural</th>\n",
       "      <th>Pace</th>\n",
       "      <th>Stamina</th>\n",
       "      <th>Strength</th>\n",
       "    </tr>\n",
       "  </thead>\n",
       "  <tbody>\n",
       "    <tr>\n",
       "      <th>0</th>\n",
       "      <td>14</td>\n",
       "      <td>19</td>\n",
       "      <td>16</td>\n",
       "      <td>16</td>\n",
       "      <td>16</td>\n",
       "      <td>17</td>\n",
       "      <td>6</td>\n",
       "      <td>17</td>\n",
       "      <td>7</td>\n",
       "      <td>9</td>\n",
       "      <td>...</td>\n",
       "      <td>20</td>\n",
       "      <td>15</td>\n",
       "      <td>16</td>\n",
       "      <td>13</td>\n",
       "      <td>14</td>\n",
       "      <td>10</td>\n",
       "      <td>16</td>\n",
       "      <td>14</td>\n",
       "      <td>16</td>\n",
       "      <td>13</td>\n",
       "    </tr>\n",
       "    <tr>\n",
       "      <th>0</th>\n",
       "      <td>7</td>\n",
       "      <td>10</td>\n",
       "      <td>14</td>\n",
       "      <td>18</td>\n",
       "      <td>16</td>\n",
       "      <td>13</td>\n",
       "      <td>15</td>\n",
       "      <td>13</td>\n",
       "      <td>5</td>\n",
       "      <td>6</td>\n",
       "      <td>...</td>\n",
       "      <td>14</td>\n",
       "      <td>13</td>\n",
       "      <td>17</td>\n",
       "      <td>16</td>\n",
       "      <td>17</td>\n",
       "      <td>18</td>\n",
       "      <td>19</td>\n",
       "      <td>19</td>\n",
       "      <td>14</td>\n",
       "      <td>17</td>\n",
       "    </tr>\n",
       "  </tbody>\n",
       "</table>\n",
       "<p>2 rows × 36 columns</p>\n",
       "</div>"
      ],
      "text/plain": [
       "  Corners Crossing Dribbling Finishing First Free Heading Long Long Marking  \\\n",
       "0      14       19        16        16    16   17       6   17    7       9   \n",
       "0       7       10        14        18    16   13      15   13    5       6   \n",
       "\n",
       "   ... Vision Work Acceleration Agility Balance Jumping Natural Pace Stamina  \\\n",
       "0  ...     20   15           16      13      14      10      16   14      16   \n",
       "0  ...     14   13           17      16      17      18      19   19      14   \n",
       "\n",
       "  Strength  \n",
       "0       13  \n",
       "0       17  \n",
       "\n",
       "[2 rows x 36 columns]"
      ]
     },
     "execution_count": 41,
     "metadata": {},
     "output_type": "execute_result"
    }
   ],
   "source": [
    "stat_df"
   ]
  },
  {
   "cell_type": "code",
   "execution_count": 37,
   "metadata": {},
   "outputs": [],
   "source": [
    "a=pd.DataFrame(data=feature_value_list[36*0:36*1],index=field_nm).transpose()"
   ]
  },
  {
   "cell_type": "code",
   "execution_count": 38,
   "metadata": {},
   "outputs": [
    {
     "data": {
      "text/html": [
       "<div>\n",
       "<style scoped>\n",
       "    .dataframe tbody tr th:only-of-type {\n",
       "        vertical-align: middle;\n",
       "    }\n",
       "\n",
       "    .dataframe tbody tr th {\n",
       "        vertical-align: top;\n",
       "    }\n",
       "\n",
       "    .dataframe thead th {\n",
       "        text-align: right;\n",
       "    }\n",
       "</style>\n",
       "<table border=\"1\" class=\"dataframe\">\n",
       "  <thead>\n",
       "    <tr style=\"text-align: right;\">\n",
       "      <th></th>\n",
       "      <th>Corners</th>\n",
       "      <th>Crossing</th>\n",
       "      <th>Dribbling</th>\n",
       "      <th>Finishing</th>\n",
       "      <th>First</th>\n",
       "      <th>Free</th>\n",
       "      <th>Heading</th>\n",
       "      <th>Long</th>\n",
       "      <th>Long</th>\n",
       "      <th>Marking</th>\n",
       "      <th>...</th>\n",
       "      <th>Vision</th>\n",
       "      <th>Work</th>\n",
       "      <th>Acceleration</th>\n",
       "      <th>Agility</th>\n",
       "      <th>Balance</th>\n",
       "      <th>Jumping</th>\n",
       "      <th>Natural</th>\n",
       "      <th>Pace</th>\n",
       "      <th>Stamina</th>\n",
       "      <th>Strength</th>\n",
       "    </tr>\n",
       "  </thead>\n",
       "  <tbody>\n",
       "    <tr>\n",
       "      <th>0</th>\n",
       "      <td>14</td>\n",
       "      <td>19</td>\n",
       "      <td>16</td>\n",
       "      <td>16</td>\n",
       "      <td>16</td>\n",
       "      <td>17</td>\n",
       "      <td>6</td>\n",
       "      <td>17</td>\n",
       "      <td>7</td>\n",
       "      <td>9</td>\n",
       "      <td>...</td>\n",
       "      <td>20</td>\n",
       "      <td>15</td>\n",
       "      <td>16</td>\n",
       "      <td>13</td>\n",
       "      <td>14</td>\n",
       "      <td>10</td>\n",
       "      <td>16</td>\n",
       "      <td>14</td>\n",
       "      <td>16</td>\n",
       "      <td>13</td>\n",
       "    </tr>\n",
       "  </tbody>\n",
       "</table>\n",
       "<p>1 rows × 36 columns</p>\n",
       "</div>"
      ],
      "text/plain": [
       "  Corners Crossing Dribbling Finishing First Free Heading Long Long Marking  \\\n",
       "0      14       19        16        16    16   17       6   17    7       9   \n",
       "\n",
       "   ... Vision Work Acceleration Agility Balance Jumping Natural Pace Stamina  \\\n",
       "0  ...     20   15           16      13      14      10      16   14      16   \n",
       "\n",
       "  Strength  \n",
       "0       13  \n",
       "\n",
       "[1 rows x 36 columns]"
      ]
     },
     "execution_count": 38,
     "metadata": {},
     "output_type": "execute_result"
    }
   ],
   "source": [
    "a"
   ]
  },
  {
   "cell_type": "code",
   "execution_count": 28,
   "metadata": {},
   "outputs": [
    {
     "ename": "ValueError",
     "evalue": "Shape of passed values is (36, 1), indices imply (36, 36)",
     "output_type": "error",
     "traceback": [
      "\u001b[1;31m---------------------------------------------------------------------------\u001b[0m",
      "\u001b[1;31mValueError\u001b[0m                                Traceback (most recent call last)",
      "Cell \u001b[1;32mIn[28], line 1\u001b[0m\n\u001b[1;32m----> 1\u001b[0m pd\u001b[38;5;241m.\u001b[39mDataFrame(data\u001b[38;5;241m=\u001b[39mfeature_value_list[\u001b[38;5;241m36\u001b[39m\u001b[38;5;241m*\u001b[39m\u001b[38;5;241m0\u001b[39m:\u001b[38;5;241m36\u001b[39m\u001b[38;5;241m*\u001b[39m\u001b[38;5;241m1\u001b[39m],columns\u001b[38;5;241m=\u001b[39mfield_nm)\n",
      "File \u001b[1;32mc:\\Users\\32170635\\AppData\\Local\\anaconda3\\Lib\\site-packages\\pandas\\core\\frame.py:822\u001b[0m, in \u001b[0;36mDataFrame.__init__\u001b[1;34m(self, data, index, columns, dtype, copy)\u001b[0m\n\u001b[0;32m    814\u001b[0m         mgr \u001b[38;5;241m=\u001b[39m arrays_to_mgr(\n\u001b[0;32m    815\u001b[0m             arrays,\n\u001b[0;32m    816\u001b[0m             columns,\n\u001b[1;32m   (...)\u001b[0m\n\u001b[0;32m    819\u001b[0m             typ\u001b[38;5;241m=\u001b[39mmanager,\n\u001b[0;32m    820\u001b[0m         )\n\u001b[0;32m    821\u001b[0m     \u001b[38;5;28;01melse\u001b[39;00m:\n\u001b[1;32m--> 822\u001b[0m         mgr \u001b[38;5;241m=\u001b[39m ndarray_to_mgr(\n\u001b[0;32m    823\u001b[0m             data,\n\u001b[0;32m    824\u001b[0m             index,\n\u001b[0;32m    825\u001b[0m             columns,\n\u001b[0;32m    826\u001b[0m             dtype\u001b[38;5;241m=\u001b[39mdtype,\n\u001b[0;32m    827\u001b[0m             copy\u001b[38;5;241m=\u001b[39mcopy,\n\u001b[0;32m    828\u001b[0m             typ\u001b[38;5;241m=\u001b[39mmanager,\n\u001b[0;32m    829\u001b[0m         )\n\u001b[0;32m    830\u001b[0m \u001b[38;5;28;01melse\u001b[39;00m:\n\u001b[0;32m    831\u001b[0m     mgr \u001b[38;5;241m=\u001b[39m dict_to_mgr(\n\u001b[0;32m    832\u001b[0m         {},\n\u001b[0;32m    833\u001b[0m         index,\n\u001b[1;32m   (...)\u001b[0m\n\u001b[0;32m    836\u001b[0m         typ\u001b[38;5;241m=\u001b[39mmanager,\n\u001b[0;32m    837\u001b[0m     )\n",
      "File \u001b[1;32mc:\\Users\\32170635\\AppData\\Local\\anaconda3\\Lib\\site-packages\\pandas\\core\\internals\\construction.py:336\u001b[0m, in \u001b[0;36mndarray_to_mgr\u001b[1;34m(values, index, columns, dtype, copy, typ)\u001b[0m\n\u001b[0;32m    331\u001b[0m \u001b[38;5;66;03m# _prep_ndarraylike ensures that values.ndim == 2 at this point\u001b[39;00m\n\u001b[0;32m    332\u001b[0m index, columns \u001b[38;5;241m=\u001b[39m _get_axes(\n\u001b[0;32m    333\u001b[0m     values\u001b[38;5;241m.\u001b[39mshape[\u001b[38;5;241m0\u001b[39m], values\u001b[38;5;241m.\u001b[39mshape[\u001b[38;5;241m1\u001b[39m], index\u001b[38;5;241m=\u001b[39mindex, columns\u001b[38;5;241m=\u001b[39mcolumns\n\u001b[0;32m    334\u001b[0m )\n\u001b[1;32m--> 336\u001b[0m _check_values_indices_shape_match(values, index, columns)\n\u001b[0;32m    338\u001b[0m \u001b[38;5;28;01mif\u001b[39;00m typ \u001b[38;5;241m==\u001b[39m \u001b[38;5;124m\"\u001b[39m\u001b[38;5;124marray\u001b[39m\u001b[38;5;124m\"\u001b[39m:\n\u001b[0;32m    339\u001b[0m     \u001b[38;5;28;01mif\u001b[39;00m \u001b[38;5;28missubclass\u001b[39m(values\u001b[38;5;241m.\u001b[39mdtype\u001b[38;5;241m.\u001b[39mtype, \u001b[38;5;28mstr\u001b[39m):\n",
      "File \u001b[1;32mc:\\Users\\32170635\\AppData\\Local\\anaconda3\\Lib\\site-packages\\pandas\\core\\internals\\construction.py:420\u001b[0m, in \u001b[0;36m_check_values_indices_shape_match\u001b[1;34m(values, index, columns)\u001b[0m\n\u001b[0;32m    418\u001b[0m passed \u001b[38;5;241m=\u001b[39m values\u001b[38;5;241m.\u001b[39mshape\n\u001b[0;32m    419\u001b[0m implied \u001b[38;5;241m=\u001b[39m (\u001b[38;5;28mlen\u001b[39m(index), \u001b[38;5;28mlen\u001b[39m(columns))\n\u001b[1;32m--> 420\u001b[0m \u001b[38;5;28;01mraise\u001b[39;00m \u001b[38;5;167;01mValueError\u001b[39;00m(\u001b[38;5;124mf\u001b[39m\u001b[38;5;124m\"\u001b[39m\u001b[38;5;124mShape of passed values is \u001b[39m\u001b[38;5;132;01m{\u001b[39;00mpassed\u001b[38;5;132;01m}\u001b[39;00m\u001b[38;5;124m, indices imply \u001b[39m\u001b[38;5;132;01m{\u001b[39;00mimplied\u001b[38;5;132;01m}\u001b[39;00m\u001b[38;5;124m\"\u001b[39m)\n",
      "\u001b[1;31mValueError\u001b[0m: Shape of passed values is (36, 1), indices imply (36, 36)"
     ]
    }
   ],
   "source": [
    "pd.DataFrame(data=feature_value_list[36*0:36*1],columns=field_nm)"
   ]
  },
  {
   "cell_type": "code",
   "execution_count": 27,
   "metadata": {},
   "outputs": [
    {
     "data": {
      "text/plain": [
       "[' 7',\n",
       " '10',\n",
       " '14',\n",
       " '18',\n",
       " '16',\n",
       " '13',\n",
       " '15',\n",
       " '13',\n",
       " ' 5',\n",
       " ' 6',\n",
       " '13',\n",
       " '17',\n",
       " ' 7',\n",
       " '15',\n",
       " '15',\n",
       " '19',\n",
       " '15',\n",
       " '18',\n",
       " '15',\n",
       " '15',\n",
       " '20',\n",
       " '16',\n",
       " '13',\n",
       " '18',\n",
       " ' 7',\n",
       " '14',\n",
       " '14',\n",
       " '13',\n",
       " '17',\n",
       " '16',\n",
       " '17',\n",
       " '18',\n",
       " '19',\n",
       " '19',\n",
       " '14',\n",
       " '17']"
      ]
     },
     "execution_count": 27,
     "metadata": {},
     "output_type": "execute_result"
    }
   ],
   "source": [
    "feature_value_list[36:72]"
   ]
  }
 ],
 "metadata": {
  "kernelspec": {
   "display_name": "base",
   "language": "python",
   "name": "python3"
  },
  "language_info": {
   "codemirror_mode": {
    "name": "ipython",
    "version": 3
   },
   "file_extension": ".py",
   "mimetype": "text/x-python",
   "name": "python",
   "nbconvert_exporter": "python",
   "pygments_lexer": "ipython3",
   "version": "3.11.7"
  }
 },
 "nbformat": 4,
 "nbformat_minor": 2
}
